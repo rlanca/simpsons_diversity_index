{
 "cells": [
  {
   "attachments": {},
   "cell_type": "markdown",
   "id": "5adbd40b",
   "metadata": {},
   "source": [
    "### Simpson's Diversity Index Project\n",
    "\n",
    "#### Introduction\n",
    "\n",
    "Simpson's Diversity Index is a measure of diversity used in ecology. Here, we observed the number and type of insects in $1m^{2}$ x $1m^{2}$ plots in four different areas: a grassy area with frequent mowing, an area underneath concrete blocks, a landscaped area filled with mulch, and an area in an overwintering garden filled with leaves. We investigated the richness and evenness of types of insects, represented by the Simpson's Index of Diversity (1-D). The index runs from 0 to 1, with 1 being the most diverse and 0 being the least diverse. Usually, Simpson's Diversity Index is used to measure species evenness and richness; however, we only have lay knowledge of insects and did this project for fun. For this reason we grouped insects by lay terms as a replacement for \"species.\"\n",
    "\n",
    "\n",
    "#### Methods \n",
    "\n",
    "All measurements were taken within a 5-hour window on the same day: January 9th, 2023. The weather was slightly cloudy and the temperature was 48$^{\\circ}$F (about 9$^{\\circ}$C). 30 minutes of observation were conducted per plot. \n",
    "\n",
    "We investigated richness and evenness of types of insects, represented by the Simpson's Index of Diversity ($1-D$). Simpson's Index ($D$) measures the probability that two individuals randomly selected from a sample will belong to the same species (or some category other than species). The index runs from 0 to 1, with 1 being the most diverse and 0 being the least diverse. The equation to calculate $D$ used in this project is: \n",
    "\n",
    "$$ D = \t\\Sigma (n / N ) ^{2} $$\n",
    "\n",
    "where $n$ is the total number of a type of insect, and $N$ is the total number of all types of insects.\n",
    "\n",
    "We then display measurements as $(1-D)$. \n",
    "\n",
    "#### Results: "
   ]
  },
  {
   "cell_type": "code",
   "execution_count": 1,
   "id": "bfb06b8f",
   "metadata": {},
   "outputs": [
    {
     "data": {
      "text/html": [
       "<div>\n",
       "<style scoped>\n",
       "    .dataframe tbody tr th:only-of-type {\n",
       "        vertical-align: middle;\n",
       "    }\n",
       "\n",
       "    .dataframe tbody tr th {\n",
       "        vertical-align: top;\n",
       "    }\n",
       "\n",
       "    .dataframe thead th {\n",
       "        text-align: right;\n",
       "    }\n",
       "</style>\n",
       "<table border=\"1\" class=\"dataframe\">\n",
       "  <thead>\n",
       "    <tr style=\"text-align: right;\">\n",
       "      <th></th>\n",
       "      <th>Grass</th>\n",
       "      <th>Blocks</th>\n",
       "      <th>Mulch</th>\n",
       "      <th>Garden</th>\n",
       "    </tr>\n",
       "    <tr>\n",
       "      <th>Insects</th>\n",
       "      <th></th>\n",
       "      <th></th>\n",
       "      <th></th>\n",
       "      <th></th>\n",
       "    </tr>\n",
       "  </thead>\n",
       "  <tbody>\n",
       "    <tr>\n",
       "      <th>Beetle</th>\n",
       "      <td>0</td>\n",
       "      <td>1</td>\n",
       "      <td>0</td>\n",
       "      <td>0</td>\n",
       "    </tr>\n",
       "    <tr>\n",
       "      <th>Centipede</th>\n",
       "      <td>0</td>\n",
       "      <td>3</td>\n",
       "      <td>3</td>\n",
       "      <td>10</td>\n",
       "    </tr>\n",
       "    <tr>\n",
       "      <th>Earwig</th>\n",
       "      <td>0</td>\n",
       "      <td>0</td>\n",
       "      <td>1</td>\n",
       "      <td>0</td>\n",
       "    </tr>\n",
       "    <tr>\n",
       "      <th>Egg clump</th>\n",
       "      <td>0</td>\n",
       "      <td>2</td>\n",
       "      <td>0</td>\n",
       "      <td>0</td>\n",
       "    </tr>\n",
       "    <tr>\n",
       "      <th>Flea?</th>\n",
       "      <td>0</td>\n",
       "      <td>0</td>\n",
       "      <td>3</td>\n",
       "      <td>0</td>\n",
       "    </tr>\n",
       "    <tr>\n",
       "      <th>Fruit fly</th>\n",
       "      <td>1</td>\n",
       "      <td>1</td>\n",
       "      <td>1</td>\n",
       "      <td>14</td>\n",
       "    </tr>\n",
       "    <tr>\n",
       "      <th>Grass flea</th>\n",
       "      <td>1</td>\n",
       "      <td>2</td>\n",
       "      <td>0</td>\n",
       "      <td>0</td>\n",
       "    </tr>\n",
       "    <tr>\n",
       "      <th>Maggot</th>\n",
       "      <td>0</td>\n",
       "      <td>0</td>\n",
       "      <td>0</td>\n",
       "      <td>1</td>\n",
       "    </tr>\n",
       "    <tr>\n",
       "      <th>Milipede</th>\n",
       "      <td>0</td>\n",
       "      <td>1</td>\n",
       "      <td>1</td>\n",
       "      <td>3</td>\n",
       "    </tr>\n",
       "    <tr>\n",
       "      <th>Mosquito</th>\n",
       "      <td>0</td>\n",
       "      <td>0</td>\n",
       "      <td>0</td>\n",
       "      <td>1</td>\n",
       "    </tr>\n",
       "    <tr>\n",
       "      <th>Nematode</th>\n",
       "      <td>0</td>\n",
       "      <td>4</td>\n",
       "      <td>8</td>\n",
       "      <td>4</td>\n",
       "    </tr>\n",
       "    <tr>\n",
       "      <th>Pupa</th>\n",
       "      <td>0</td>\n",
       "      <td>1</td>\n",
       "      <td>0</td>\n",
       "      <td>0</td>\n",
       "    </tr>\n",
       "    <tr>\n",
       "      <th>Roly-Poly</th>\n",
       "      <td>0</td>\n",
       "      <td>2</td>\n",
       "      <td>0</td>\n",
       "      <td>0</td>\n",
       "    </tr>\n",
       "    <tr>\n",
       "      <th>Slug</th>\n",
       "      <td>0</td>\n",
       "      <td>11</td>\n",
       "      <td>0</td>\n",
       "      <td>5</td>\n",
       "    </tr>\n",
       "    <tr>\n",
       "      <th>Spider</th>\n",
       "      <td>0</td>\n",
       "      <td>8</td>\n",
       "      <td>0</td>\n",
       "      <td>2</td>\n",
       "    </tr>\n",
       "    <tr>\n",
       "      <th>Wood lice</th>\n",
       "      <td>0</td>\n",
       "      <td>14</td>\n",
       "      <td>7</td>\n",
       "      <td>14</td>\n",
       "    </tr>\n",
       "    <tr>\n",
       "      <th>Worm</th>\n",
       "      <td>2</td>\n",
       "      <td>15</td>\n",
       "      <td>0</td>\n",
       "      <td>18</td>\n",
       "    </tr>\n",
       "  </tbody>\n",
       "</table>\n",
       "</div>"
      ],
      "text/plain": [
       "            Grass  Blocks  Mulch  Garden\n",
       "Insects                                 \n",
       "Beetle          0       1      0       0\n",
       "Centipede       0       3      3      10\n",
       "Earwig          0       0      1       0\n",
       "Egg clump       0       2      0       0\n",
       "Flea?           0       0      3       0\n",
       "Fruit fly       1       1      1      14\n",
       "Grass flea      1       2      0       0\n",
       "Maggot          0       0      0       1\n",
       "Milipede        0       1      1       3\n",
       "Mosquito        0       0      0       1\n",
       "Nematode        0       4      8       4\n",
       "Pupa            0       1      0       0\n",
       "Roly-Poly       0       2      0       0\n",
       "Slug            0      11      0       5\n",
       "Spider          0       8      0       2\n",
       "Wood lice       0      14      7      14\n",
       "Worm            2      15      0      18"
      ]
     },
     "execution_count": 1,
     "metadata": {},
     "output_type": "execute_result"
    }
   ],
   "source": [
    "import pandas as pd\n",
    "import numpy as np\n",
    "\n",
    "df = pd.read_csv('BioIAData.csv')\n",
    "df = df.rename(columns={'Unnamed: 0':'Insects'})\n",
    "df.set_index('Insects')"
   ]
  },
  {
   "cell_type": "code",
   "execution_count": 128,
   "id": "030c8b4b",
   "metadata": {},
   "outputs": [
    {
     "name": "stdout",
     "output_type": "stream",
     "text": [
      "The total number of organisms in the Grass area is: 4\n",
      "The total number of organisms in the Blocks area is: 65\n",
      "The total number of organisms in the Mulch area is: 24\n",
      "The total number of organisms in the Garden area is: 72\n"
     ]
    }
   ],
   "source": [
    "sums = df.sum(axis=0)\n",
    "print(\"The total number of organisms in the Grass area is:\", sums['Grass'])\n",
    "print(\"The total number of organisms in the Blocks area is:\", sums['Blocks'])\n",
    "print(\"The total number of organisms in the Mulch area is:\", sums['Mulch'])\n",
    "print(\"The total number of organisms in the Garden area is:\", sums['Garden'])"
   ]
  },
  {
   "cell_type": "code",
   "execution_count": 125,
   "id": "080152af",
   "metadata": {},
   "outputs": [
    {
     "name": "stdout",
     "output_type": "stream",
     "text": [
      "The richness of Grass area is: 3\n",
      "The richness of Blocks is: 13\n",
      "The richness of Mulch is: 7\n",
      "The richness of the Garden is: 10\n"
     ]
    }
   ],
   "source": [
    "richness = np.count_nonzero(df, axis=0)\n",
    "Grass_Richness, Blocks_Richness, Mulch_Richness, Garden_Richness = richness[1], richness[2], richness[3], richness[4]\n",
    "print(\"The richness of Grass area is:\", Grass_Richness)\n",
    "print(\"The richness of Blocks is:\", Blocks_Richness)\n",
    "print(\"The richness of Mulch is:\", Mulch_Richness)\n",
    "print(\"The richness of the Garden is:\", Garden_Richness)"
   ]
  },
  {
   "cell_type": "code",
   "execution_count": 87,
   "id": "94bd23bd",
   "metadata": {},
   "outputs": [
    {
     "data": {
      "text/plain": [
       "(17, 5)"
      ]
     },
     "execution_count": 87,
     "metadata": {},
     "output_type": "execute_result"
    }
   ],
   "source": [
    "df.shape"
   ]
  },
  {
   "cell_type": "code",
   "execution_count": 120,
   "id": "380619f1",
   "metadata": {},
   "outputs": [
    {
     "name": "stdout",
     "output_type": "stream",
     "text": [
      "The Simpson's Index of Diversity (1-D) for Grass is: 0.62\n",
      "The Simpson's Index of Diversity (1-D) for Blocks is: 0.85\n",
      "The Simpson's Index of Diversity (1-D) for Mulch is: 0.77\n",
      "The Simpson's Index of Diversity (1-D) for Garden is: 0.83\n"
     ]
    }
   ],
   "source": [
    "#Grass\n",
    "grsum=0\n",
    "for i in range(0,17):\n",
    "    n = df.iloc[i,1]\n",
    "    grsum = grsum + (n/sums['Grass'])**2\n",
    "print(\"The Simpson's Index of Diversity (1-D) for Grass is:\", round(1-grsum, 2))\n",
    "\n",
    "#Blocks\n",
    "bsum=0\n",
    "for i in range(0,17):\n",
    "    n=df.iloc[i,2]\n",
    "    bsum = bsum + (n/sums['Blocks'])**2\n",
    "print(\"The Simpson's Index of Diversity (1-D) for Blocks is:\", round(1-bsum, 2))\n",
    "\n",
    "#Mulch\n",
    "msum=0\n",
    "for i in range(0,17):\n",
    "    n=df.iloc[i,3]\n",
    "    msum = msum + (n/sums['Mulch'])**2\n",
    "print(\"The Simpson's Index of Diversity (1-D) for Mulch is:\", round(1-msum, 2))\n",
    "\n",
    "#Mulch\n",
    "gasum=0\n",
    "for i in range(0,17):\n",
    "    n=df.iloc[i,4]\n",
    "    gasum = gasum + (n/sums['Garden'])**2\n",
    "print(\"The Simpson's Index of Diversity (1-D) for Garden is:\", round(1-gasum, 2))\n"
   ]
  },
  {
   "attachments": {},
   "cell_type": "markdown",
   "id": "4a5be980",
   "metadata": {},
   "source": [
    "#### Conclusion\n",
    "\n",
    "The area with the highest diversity, as calculated with the Simpson's Diversity Index, was underneath the concrete blocks ($1-D$ = 0.85). The least diverse area was the grass lawn($1-D$ = 0.62). Generally, we observed that the more moisture and decaying organic matter was present, the greater the diversity of observed insects."
   ]
  }
 ],
 "metadata": {
  "kernelspec": {
   "display_name": "Python 3",
   "language": "python",
   "name": "python3"
  },
  "language_info": {
   "codemirror_mode": {
    "name": "ipython",
    "version": 3
   },
   "file_extension": ".py",
   "mimetype": "text/x-python",
   "name": "python",
   "nbconvert_exporter": "python",
   "pygments_lexer": "ipython3",
   "version": "3.11.1"
  },
  "vscode": {
   "interpreter": {
    "hash": "853f01df416f9b6b452f137e2a36198d6e629a7bb44a1f05230e2b1718f523f7"
   }
  }
 },
 "nbformat": 4,
 "nbformat_minor": 5
}
